{
 "cells": [
  {
   "cell_type": "code",
   "execution_count": 6,
   "metadata": {},
   "outputs": [],
   "source": [
    "# Python program to \n",
    "# demonstrate merging of \n",
    "# two files \n",
    "  \n",
    "# Creating a list of filenames \n",
    "filenames = ['CAPN10_1.txt', 'CAPN10_2.txt', 'tcf7l2_diabetes.txt', 'HNF1A_1.txt', 'HNF1A_2.txt', 'HNF1A_3.txt', 'HNF1A_4.txt', 'HNF1A_5.txt', 'HNF1A_6.txt'] \n",
    "  \n",
    "# Open file3 in write mode \n",
    "with open('combined.txt', 'w') as outfile: \n",
    "  \n",
    "    # Iterate through list \n",
    "    for names in filenames: \n",
    "  \n",
    "        # Open each file in read mode \n",
    "        with open(names) as infile: \n",
    "  \n",
    "            # read the data from file1 and \n",
    "            # file2 and write it in file3 \n",
    "            outfile.write(infile.read()) \n",
    "  \n",
    "        # Add '\\n' to enter data of file2 \n",
    "        # from next line \n",
    "        outfile.write(\"\\n\")"
   ]
  },
  {
   "cell_type": "code",
   "execution_count": null,
   "metadata": {},
   "outputs": [],
   "source": []
  },
  {
   "cell_type": "code",
   "execution_count": null,
   "metadata": {},
   "outputs": [],
   "source": []
  }
 ],
 "metadata": {
  "kernelspec": {
   "display_name": "Python 3",
   "language": "python",
   "name": "python3"
  },
  "language_info": {
   "codemirror_mode": {
    "name": "ipython",
    "version": 3
   },
   "file_extension": ".py",
   "mimetype": "text/x-python",
   "name": "python",
   "nbconvert_exporter": "python",
   "pygments_lexer": "ipython3",
   "version": "3.7.4"
  }
 },
 "nbformat": 4,
 "nbformat_minor": 4
}
