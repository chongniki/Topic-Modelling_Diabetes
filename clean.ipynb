{
 "cells": [
  {
   "cell_type": "code",
   "execution_count": 2,
   "metadata": {},
   "outputs": [],
   "source": [
    "import pandas as pd\n",
    "import re"
   ]
  },
  {
   "cell_type": "code",
   "execution_count": 3,
   "metadata": {},
   "outputs": [
    {
     "data": {
      "text/plain": [
       "'11017071'"
      ]
     },
     "execution_count": 3,
     "metadata": {},
     "output_type": "execute_result"
    }
   ],
   "source": [
    "file = open('combined.txt', 'r')\n",
    "listfiles = file.readlines()\n",
    "listfiles[0][0:8]"
   ]
  },
  {
   "cell_type": "code",
   "execution_count": 4,
   "metadata": {},
   "outputs": [],
   "source": [
    "master = []\n",
    "entry = []\n",
    "count = 0\n",
    "for i in range(len(listfiles)):\n",
    "    if listfiles[i][0:8] != count:\n",
    "        count = listfiles[i][0:8]\n",
    "        master.append(entry)\n",
    "        entry = []\n",
    "        entry.append(listfiles[i])\n",
    "    else:\n",
    "        entry.append(listfiles[i])\n",
    "        "
   ]
  },
  {
   "cell_type": "code",
   "execution_count": 5,
   "metadata": {},
   "outputs": [
    {
     "data": {
      "text/plain": [
       "[[],\n",
       " ['11017071|t|Genetic variation in the gene encoding calpain-10 is associated with type 2 diabetes mellitus.\\n',\n",
       "  \"11017071|a|Type 2 or non-insulin-dependent diabetes mellitus (NIDDM) is the most common form of diabetes worldwide, affecting approximately 4% of the world's adult population. It is multifactorial in origin with both genetic and environmental factors contributing to its development. A genome-wide screen for type 2 diabetes genes carried out in Mexican Americans localized a susceptibility gene, designated NIDDM1, to chromosome 2. Here we describe the positional cloning of a gene located in the NIDDM1 region that shows association with type 2 diabetes in Mexican Americans and a Northern European population from the Botnia region of Finland. This putative diabetes-susceptibility gene encodes a ubiquitously expressed member of the calpain-like cysteine protease family, calpain-10 (CAPN10). This finding suggests a novel pathway that may contribute to the development of type 2 diabetes.\\n\",\n",
       "  '11017071\\t39\\t49\\tcalpain-10\\tGene\\t11132\\n',\n",
       "  '11017071\\t76\\t93\\tdiabetes mellitus\\tDisease\\tMESH:D003920\\n',\n",
       "  '11017071\\t105\\t144\\tnon-insulin-dependent diabetes mellitus\\tDisease\\tMESH:D003924\\n',\n",
       "  '11017071\\t180\\t188\\tdiabetes\\tDisease\\tMESH:D003920\\n',\n",
       "  '11017071\\t400\\t408\\tdiabetes\\tDisease\\tMESH:D003920\\n',\n",
       "  '11017071\\t492\\t498\\tNIDDM1\\tGene\\t4812\\n',\n",
       "  '11017071\\t582\\t588\\tNIDDM1\\tGene\\t4812\\n',\n",
       "  '11017071\\t631\\t639\\tdiabetes\\tDisease\\tMESH:D003920\\n',\n",
       "  '11017071\\t745\\t753\\tdiabetes\\tDisease\\tMESH:D003920\\n',\n",
       "  '11017071\\t834\\t842\\tcysteine\\tChemical\\tMESH:D003545\\n',\n",
       "  '11017071\\t860\\t870\\tcalpain-10\\tGene\\t11132\\n',\n",
       "  '11017071\\t872\\t878\\tCAPN10\\tGene\\t11132\\n',\n",
       "  '11017071\\t961\\t976\\ttype 2 diabetes\\tDisease\\tMESH:D003924\\n'],\n",
       " ['\\n'],\n",
       " ['11018080|t|A calpain-10 gene polymorphism is associated with reduced muscle mRNA levels and insulin resistance.\\n',\n",
       "  '11018080|a|Previous linkage studies in Mexican-Americans localized a major susceptibility locus for type 2 diabetes, NIDDM1, to chromosome 2q. This evidence for linkage to type 2 diabetes was recently found to be associated with a common G--&gt;A polymorphism (UCSNP-43) within the CAPN10 gene. The at-risk genotype was homozygous for the UCSNP-43 G allele. In the present study among Pima Indians, the UCSNP-43 G/G genotype was not associated with an increased prevalence of type 2 diabetes. However, Pima Indians with normal glucose tolerance, who have a G/G genotype at UCSNP-43, were found to have decreased rates of postabsorptive and insulin-stimulated glucose turnover that appear to result from decreased rates of glucose oxidation. In addition, G/G homozygotes were found to have reduced CAPN10 mRNA expression in their skeletal muscle. A decreased rate of insulin-mediated glucose turnover, or insulin resistance, is one mechanism by which the polymorphism in CAPN10 may increase susceptibility to type 2 diabetes mellitus in older persons.\\n',\n",
       "  '11018080\\t2\\t12\\tcalpain-10\\tGene\\t11132\\n',\n",
       "  '11018080\\t81\\t88\\tinsulin\\tGene\\t3630\\n',\n",
       "  '11018080\\t190\\t205\\ttype 2 diabetes\\tDisease\\tMESH:D003924\\n',\n",
       "  '11018080\\t207\\t213\\tNIDDM1\\tGene\\t4812\\n',\n",
       "  '11018080\\t269\\t277\\tdiabetes\\tDisease\\tMESH:D003920\\n',\n",
       "  '11018080\\t372\\t378\\tCAPN10\\tGene\\t11132\\n',\n",
       "  '11018080\\t573\\t581\\tdiabetes\\tDisease\\tMESH:D003920\\n',\n",
       "  '11018080\\t617\\t624\\tglucose\\tChemical\\tMESH:D005947\\n',\n",
       "  '11018080\\t730\\t737\\tinsulin\\tGene\\t3630\\n',\n",
       "  '11018080\\t749\\t765\\tglucose turnover\\tDisease\\tMESH:D018149\\n',\n",
       "  '11018080\\t812\\t819\\tglucose\\tChemical\\tMESH:D005947\\n',\n",
       "  '11018080\\t887\\t893\\tCAPN10\\tGene\\t11132\\n',\n",
       "  '11018080\\t956\\t963\\tinsulin\\tGene\\t3630\\n',\n",
       "  '11018080\\t973\\t989\\tglucose turnover\\tDisease\\tMESH:D018149\\n',\n",
       "  '11018080\\t994\\t1001\\tinsulin\\tGene\\t3630\\n',\n",
       "  '11018080\\t1060\\t1066\\tCAPN10\\tGene\\t11132\\n',\n",
       "  '11018080\\t1098\\t1122\\ttype 2 diabetes mellitus\\tDisease\\tMESH:D003924\\n',\n",
       "  '11018080\\t1132\\t1139\\tpersons\\tSpecies\\t9606\\n'],\n",
       " ['\\n'],\n",
       " ['11473094|t|Absence of association of type 2 diabetes with CAPN10 and PC-1 polymorphisms in Oji-Cree.\\n',\n",
       "  '11473094|a|\\n',\n",
       "  '11473094\\t33\\t41\\tdiabetes\\tDisease\\tMESH:D003920\\n',\n",
       "  '11473094\\t47\\t53\\tCAPN10\\tGene\\t11132\\n',\n",
       "  '11473094\\t58\\t62\\tPC-1\\tGene\\t5310\\n'],\n",
       " ['\\n'],\n",
       " ['11481585|t|Studies of association between the gene for calpain-10 and type 2 diabetes mellitus in the United Kingdom.\\n',\n",
       "  '11481585|a|Variation in CAPN10, the gene encoding the ubiquitously expressed cysteine protease calpain-10, has been associated with type 2 diabetes in Mexican Americans and in two northern-European populations, from Finland and Germany. We have studied CAPN10 in white subjects of British/Irish ancestry, using both family-based and case-control studies. In 743 sib pairs, there was no evidence of linkage at the CAPN10 locus, which thereby excluded it as a diabetes-susceptibility gene, with an overall sib recurrence risk, lambda(S), of 1.25. We examined four single-nucleotide polymorphisms (SNP-44, -43, -19, and -63) previously either associated with type 2 diabetes or implicated in transcriptional regulation of calpain-10 expression. We did not find any association between SNP-43, -19, and -63, either individually or as part of the previously described risk haplotypes. We did, however, observe significantly increased (P=.033) transmission of the less common C allele at SNP-44, to affected offspring in parents-offspring trios (odds ratio 1.6). An independent U.K. case-control study and a small discordant-sib study did not show significant association individually. In a combined analysis of all U.K. studies (P=.015) and in combination with a Mexican American study (P=.004), the C allele at SNP-44 is associated with type 2 diabetes. Sequencing of the coding region of CAPN10 in a group of U.K. subjects revealed four coding polymorphisms-L34V, T504A, R555C, and V666I. The T504A polymorphism was in perfect linkage disequilibrium with the diabetes-associated C allele at SNP-44, suggesting that the synthesis of a mutant protein and/or altered transcriptional regulation could contribute to diabetes risk. In conclusion, we were not able to replicate the association of the specific calpain-10 alleles identified by Horikawa et al. but suggest that other alleles at this locus may increase type 2 diabetes risk in the U.K. population.\\n',\n",
       "  '11481585\\t44\\t54\\tcalpain-10\\tGene\\t11132\\n',\n",
       "  '11481585\\t66\\t83\\tdiabetes mellitus\\tDisease\\tMESH:D003920\\n',\n",
       "  '11481585\\t120\\t126\\tCAPN10\\tGene\\t11132\\n',\n",
       "  '11481585\\t173\\t181\\tcysteine\\tChemical\\tMESH:D003545\\n',\n",
       "  '11481585\\t191\\t201\\tcalpain-10\\tGene\\t11132\\n',\n",
       "  '11481585\\t235\\t243\\tdiabetes\\tDisease\\tMESH:D003920\\n',\n",
       "  '11481585\\t349\\t355\\tCAPN10\\tGene\\t11132\\n',\n",
       "  '11481585\\t509\\t515\\tCAPN10\\tGene\\t11132\\n',\n",
       "  '11481585\\t554\\t562\\tdiabetes\\tDisease\\tMESH:D003920\\n',\n",
       "  '11481585\\t759\\t767\\tdiabetes\\tDisease\\tMESH:D003920\\n',\n",
       "  '11481585\\t815\\t825\\tcalpain-10\\tGene\\t11132\\n',\n",
       "  '11481585\\t1436\\t1444\\tdiabetes\\tDisease\\tMESH:D003920\\n',\n",
       "  '11481585\\t1481\\t1487\\tCAPN10\\tGene\\t11132\\n',\n",
       "  '11481585\\t1551\\t1555\\tL34V\\tProteinMutation\\tp.L34V;RS#:138005500\\n',\n",
       "  '11481585\\t1557\\t1562\\tT504A\\tDNAMutation\\tc.504T>A;RS#:7607759\\n',\n",
       "  '11481585\\t1564\\t1569\\tR555C\\tProteinMutation\\tp.R555C;RS#:201157354\\n',\n",
       "  '11481585\\t1575\\t1580\\tV666I\\tProteinMutation\\tp.V666I;RS#:2975766\\n',\n",
       "  '11481585\\t1586\\t1591\\tT504A\\tDNAMutation\\tc.504T>A;RS#:7607759\\n',\n",
       "  '11481585\\t1652\\t1660\\tdiabetes\\tDisease\\tMESH:D003920\\n',\n",
       "  '11481585\\t1804\\t1812\\tdiabetes\\tDisease\\tMESH:D003920\\n',\n",
       "  '11481585\\t1896\\t1906\\tcalpain-10\\tGene\\t11132\\n',\n",
       "  '11481585\\t2003\\t2018\\ttype 2 diabetes\\tDisease\\tMESH:D003924\\n'],\n",
       " ['\\n'],\n",
       " ['11522685|t|Functional significance of the UCSNP-43 polymorphism in the CAPN10 gene for proinsulin processing and insulin secretion in nondiabetic Germans.\\n',\n",
       "  '11522685|a|Recently, an association of the G allele in UCSNP-43 of calpain 10 with type 2 diabetes and decreased glucose disposal was reported. Calpain 10 is also expressed in pancreatic islets. It is not known, however, whether and how this polymorphism contributes to the biological variation of beta-cell function. We studied 73 nondiabetic subjects from the southwest region of Germany (G/G, n = 41; G/A, n = 29; and A/A, n = 3) using a modified hyperglycemic clamp (10 mmol/l glucose, added glucagon-like peptide 1, final arginine bolus). The genotype distribution was not different between subjects with normal glucose tolerance (n = 56) and those with impaired glucose tolerance (n = 17; P = 0.74, chi2 test). First-phase insulin secretion (adjusted for sex and insulin sensitivity from hyperglycemic clamp) was greater in G/G (2,747 +/- 297 pmol/min) than in G/A + A/A (1,612 +/- 156 pmol/min, P = 0.003). Insulin secretion in response to arginine (adjusted for insulin sensitivity) was also greater in G/G (9,648 +/- 1,186 pmol/min) than in G/A + A/A (5,686 +/- 720 pmol/min, P = 0.04). The acute poststimulus proinsulin-to-insulin ratio was lower in G/G (1.6 +/- 0.4% first phase; 1.6 +/- 0.2% arginine) than in G/A + A/A (4.0 +/- 0.5% first phase, P &lt; 0.001; 2.5 +/- 0.4% arginine, P = 0.03). In conclusion, it appears unlikely that any association of the UCSNP-43 polymorphism alone with type 2 diabetes involves impairment of insulin secretion in our population of German Caucasians. This may be entirely different with specific haplotype combinations.\\n',\n",
       "  '11522685\\t60\\t66\\tCAPN10\\tGene\\t11132\\n',\n",
       "  '11522685\\t76\\t86\\tproinsulin\\tGene\\t3630\\n',\n",
       "  '11522685\\t102\\t109\\tinsulin\\tGene\\t3630\\n',\n",
       "  '11522685\\t200\\t210\\tcalpain 10\\tGene\\t11132\\n',\n",
       "  '11522685\\t223\\t231\\tdiabetes\\tDisease\\tMESH:D003920\\n',\n",
       "  '11522685\\t236\\t262\\tdecreased glucose disposal\\tDisease\\tMESH:D018149\\n',\n",
       "  '11522685\\t277\\t287\\tCalpain 10\\tGene\\t11132\\n',\n",
       "  '11522685\\t309\\t326\\tpancreatic islets\\tDisease\\tMESH:C535838\\n',\n",
       "  '11522685\\t583\\t602\\thyperglycemic clamp\\tDisease\\tMESH:D006944\\n',\n",
       "  '11522685\\t614\\t621\\tglucose\\tChemical\\tMESH:D005947\\n',\n",
       "  '11522685\\t660\\t668\\targinine\\tChemical\\tMESH:D001127\\n',\n",
       "  '11522685\\t750\\t757\\tglucose\\tChemical\\tMESH:D005947\\n',\n",
       "  '11522685\\t792\\t818\\timpaired glucose tolerance\\tDisease\\tMESH:D018149\\n',\n",
       "  '11522685\\t862\\t869\\tinsulin\\tGene\\t3630\\n',\n",
       "  '11522685\\t902\\t909\\tinsulin\\tGene\\t3630\\n',\n",
       "  '11522685\\t927\\t946\\thyperglycemic clamp\\tDisease\\tMESH:D006944\\n',\n",
       "  '11522685\\t1047\\t1054\\tInsulin\\tGene\\t3630\\n',\n",
       "  '11522685\\t1080\\t1088\\targinine\\tChemical\\tMESH:D001127\\n',\n",
       "  '11522685\\t1103\\t1110\\tinsulin\\tGene\\t3630\\n',\n",
       "  '11522685\\t1252\\t1262\\tproinsulin\\tGene\\t3630\\n',\n",
       "  '11522685\\t1266\\t1273\\tinsulin\\tGene\\t3630\\n',\n",
       "  '11522685\\t1337\\t1345\\targinine\\tChemical\\tMESH:D001127\\n',\n",
       "  '11522685\\t1419\\t1427\\targinine\\tChemical\\tMESH:D001127\\n',\n",
       "  '11522685\\t1543\\t1592\\tdiabetes involves impairment of insulin secretion\\tDisease\\tMESH:D003922\\n']]"
      ]
     },
     "execution_count": 5,
     "metadata": {},
     "output_type": "execute_result"
    }
   ],
   "source": [
    "master[0:10]"
   ]
  },
  {
   "cell_type": "code",
   "execution_count": 6,
   "metadata": {},
   "outputs": [],
   "source": [
    "master_edited = []\n",
    "temp = []\n",
    "count = 0\n",
    "char = ('0', '1', '2', '3', '4', '5', '6', '7', '8', '9', '\\\\', '\\t')\n",
    "\n",
    "for strings in master:\n",
    "    temp = []\n",
    "    for i in range(len(strings)): \n",
    "        if strings[i][11:].startswith(char):\n",
    "            continue\n",
    "        elif strings[i][0:8] != count:\n",
    "            count = strings[i][0:8]\n",
    "            master_edited.append(temp)\n",
    "            temp.append(strings[i][11:].strip('\\n'))\n",
    "        else:\n",
    "            temp.append(strings[i][11:].strip('\\n'))\n",
    "            "
   ]
  },
  {
   "cell_type": "code",
   "execution_count": 7,
   "metadata": {},
   "outputs": [
    {
     "data": {
      "text/plain": [
       "1"
      ]
     },
     "execution_count": 7,
     "metadata": {},
     "output_type": "execute_result"
    }
   ],
   "source": [
    "len(master_edited[7])"
   ]
  },
  {
   "cell_type": "code",
   "execution_count": 8,
   "metadata": {},
   "outputs": [],
   "source": [
    "for lists in master_edited:\n",
    "    if len(lists) <= 1:\n",
    "        master_edited.remove(lists)\n",
    "    else:\n",
    "        continue"
   ]
  },
  {
   "cell_type": "code",
   "execution_count": 17,
   "metadata": {},
   "outputs": [
    {
     "data": {
      "text/plain": [
       "['A calpain-10 gene polymorphism is associated with reduced muscle mRNA levels and insulin resistance.',\n",
       " 'Previous linkage studies in Mexican-Americans localized a major susceptibility locus for type 2 diabetes, NIDDM1, to chromosome 2q. This evidence for linkage to type 2 diabetes was recently found to be associated with a common G--&gt;A polymorphism (UCSNP-43) within the CAPN10 gene. The at-risk genotype was homozygous for the UCSNP-43 G allele. In the present study among Pima Indians, the UCSNP-43 G/G genotype was not associated with an increased prevalence of type 2 diabetes. However, Pima Indians with normal glucose tolerance, who have a G/G genotype at UCSNP-43, were found to have decreased rates of postabsorptive and insulin-stimulated glucose turnover that appear to result from decreased rates of glucose oxidation. In addition, G/G homozygotes were found to have reduced CAPN10 mRNA expression in their skeletal muscle. A decreased rate of insulin-mediated glucose turnover, or insulin resistance, is one mechanism by which the polymorphism in CAPN10 may increase susceptibility to type 2 diabetes mellitus in older persons.']"
      ]
     },
     "execution_count": 17,
     "metadata": {},
     "output_type": "execute_result"
    }
   ],
   "source": [
    "master_edited[1] "
   ]
  },
  {
   "cell_type": "code",
   "execution_count": 10,
   "metadata": {},
   "outputs": [
    {
     "data": {
      "text/plain": [
       "1426"
      ]
     },
     "execution_count": 10,
     "metadata": {},
     "output_type": "execute_result"
    }
   ],
   "source": [
    "len(master_edited)"
   ]
  },
  {
   "cell_type": "code",
   "execution_count": 11,
   "metadata": {},
   "outputs": [],
   "source": [
    "master = []\n",
    "for lists in master_edited:\n",
    "    newlist = ''.join(map(str, lists))\n",
    "    master.append(newlist)"
   ]
  },
  {
   "cell_type": "code",
   "execution_count": 18,
   "metadata": {},
   "outputs": [
    {
     "data": {
      "text/plain": [
       "'A calpain-10 gene polymorphism is associated with reduced muscle mRNA levels and insulin resistance.Previous linkage studies in Mexican-Americans localized a major susceptibility locus for type 2 diabetes, NIDDM1, to chromosome 2q. This evidence for linkage to type 2 diabetes was recently found to be associated with a common G--&gt;A polymorphism (UCSNP-43) within the CAPN10 gene. The at-risk genotype was homozygous for the UCSNP-43 G allele. In the present study among Pima Indians, the UCSNP-43 G/G genotype was not associated with an increased prevalence of type 2 diabetes. However, Pima Indians with normal glucose tolerance, who have a G/G genotype at UCSNP-43, were found to have decreased rates of postabsorptive and insulin-stimulated glucose turnover that appear to result from decreased rates of glucose oxidation. In addition, G/G homozygotes were found to have reduced CAPN10 mRNA expression in their skeletal muscle. A decreased rate of insulin-mediated glucose turnover, or insulin resistance, is one mechanism by which the polymorphism in CAPN10 may increase susceptibility to type 2 diabetes mellitus in older persons.'"
      ]
     },
     "execution_count": 18,
     "metadata": {},
     "output_type": "execute_result"
    }
   ],
   "source": [
    "master[1]"
   ]
  },
  {
   "cell_type": "code",
   "execution_count": 13,
   "metadata": {},
   "outputs": [],
   "source": [
    "df = pd.Series(master)"
   ]
  },
  {
   "cell_type": "code",
   "execution_count": 14,
   "metadata": {},
   "outputs": [],
   "source": [
    "df.to_csv('combined_raw.txt', index=None, header=False)"
   ]
  },
  {
   "cell_type": "code",
   "execution_count": 16,
   "metadata": {},
   "outputs": [
    {
     "data": {
      "text/plain": [
       "1426"
      ]
     },
     "execution_count": 16,
     "metadata": {},
     "output_type": "execute_result"
    }
   ],
   "source": [
    "len(df)"
   ]
  },
  {
   "cell_type": "code",
   "execution_count": null,
   "metadata": {},
   "outputs": [],
   "source": []
  }
 ],
 "metadata": {
  "kernelspec": {
   "display_name": "Python 3",
   "language": "python",
   "name": "python3"
  },
  "language_info": {
   "codemirror_mode": {
    "name": "ipython",
    "version": 3
   },
   "file_extension": ".py",
   "mimetype": "text/x-python",
   "name": "python",
   "nbconvert_exporter": "python",
   "pygments_lexer": "ipython3",
   "version": "3.7.4"
  }
 },
 "nbformat": 4,
 "nbformat_minor": 2
}
